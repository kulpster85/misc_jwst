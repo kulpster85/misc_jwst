{
 "cells": [
  {
   "cell_type": "markdown",
   "id": "ec72f847",
   "metadata": {},
   "source": [
    "# Tools for monitoring operatons status and schedule\n",
    "\n",
    "*(This is a specialized tool, aimed mostly at observatory team members at STScI, and not likely to be of much use to the broader community. Not a tool for science analysis)*\n",
    "\n",
    "\n",
    "The `misc_jwst` package installs a command-line tool `jwstops` which can be used to query and display various information about recent observations running on the observatory, observing schedules, and similar. \n",
    "Most of this information is obtained from [observatory log messages in the engineering database](https://github.com/mperrin/misc_jwst/blob/main/notebooks/Examining%20OSS%20Log%20Messages%20from%20the%20Engineering%20Database.ipynb), and/or other public information sources such as the posted weekly observing schedules.\n",
    "\n",
    "\n",
    "If you `pip install` this package, it should automatically install the `jwstops` command-line tool at an appropriate path. You may need to reload your shell or otherwise refresh your $PATH for it to show up. If you're installing this within a conda environment (recommended), you will need to have that conda environment activated to run the command line tool. \n",
    "\n",
    "\n",
    "**Usage overview**: The `jwstops` tool has various switches to display different outputs. Some examples are shown below, within this Jupyter notebook just for example documentation purposes. Generally the idea is you run this from your terminal command line, not in a Jupyter notebook. \n",
    "\n",
    "`jwstops -h` will display a help message listing available options. \n",
    "\n",
    "\n",
    "<font color='red'>**This tool is under active development, and options and functionality will continue to change from time to time. <BR> Probably has bugs. *Not* an officially supported tool.**</font>"
   ]
  },
  {
   "cell_type": "markdown",
   "id": "6398243c",
   "metadata": {},
   "source": [
    "## Display current observing schedule \n",
    "\n",
    "This displays the [*schedule*](https://www.stsci.edu/jwst/science-execution/observing-schedules), not what the observatory has actually done. "
   ]
  },
  {
   "cell_type": "code",
   "execution_count": 4,
   "id": "77ca12b8",
   "metadata": {},
   "outputs": [
    {
     "name": "stdout",
     "output_type": "stream",
     "text": [
      "Time range: 48.0 h\n",
      "Showing scheduled visits within 48.0 h from the current time:\n",
      "\n",
      "VISIT ID\tVISIT TYPE      \tSCHED. FGSMAIN START\tInstr. Mode\tTarget Name\n",
      "2965:13:1\tPRIME TARGETED FIXED\t2024-02-28T21:58:59\tNRS BOTS  \tWISE1049AB\n",
      "4556:1:1\tPRIME WFSC ROUTINE\t2024-02-29T05:56:42\tWFSC      \t2MASS-04182439+3958099\n",
      "4195:1:1\tPRIME TARGETED FIXED\t2024-02-29T08:44:40\tNRS BOTS  \tTOI-1685\n",
      "4290:17:1\tPRIME TARGETED FIXED\t2024-02-29T13:46:10\tNIRCam Imaging\tCB-26\n",
      "4290:18:1\tPRIME TARGETED FIXED\t2024-02-29T14:44:41\tMIRI Imaging\tCB-26\n",
      "3690:156:1\tPRIME TARGETED FIXED\t2024-02-29T15:53:54\tMIRI LRS  \tGaiaDR3277130879287684480\n",
      "2745:37:1\tPRIME UNTARGETED\t2024-02-29T17:30:00\tRealtime Commanding\t--\n",
      "3171:13:1\tPRIME TARGETED FIXED\t2024-02-29T19:15:05\tNRS BOTS  \tTOI-3714\n",
      "2974:4:1\tPRIME TARGETED FIXED\t2024-03-01T01:24:13\tNRS IFU   \tJ1721+8842.LENSGALAXY\n",
      "4556:2:1\tPRIME WFSC ROUTINE\t2024-03-01T08:20:37\tWFSC      \t2MASS-04182439+3958099\n",
      "3224:28:1\tPRIME TARGETED FIXED\t2024-03-01T12:40:00\tMIRI LRS  \tGNIRS7\n",
      "3224:29:1\tPRIME TARGETED FIXED\t2024-03-01T14:13:26\tMIRI LRS  \tGNIRS11\n",
      "3224:30:1\tPRIME TARGETED FIXED\t2024-03-01T15:36:25\tMIRI LRS  \tGNIRS12\n",
      "3224:32:1\tPRIME TARGETED FIXED\t2024-03-01T16:22:37\tMIRI LRS  \tGNIRS16\n",
      ">>>>>>>>>>>   \tCurrent time       \t2024-03-01 16:46:03 UT \t<<<<<<<<<<<\n",
      "3224:33:1\tPRIME TARGETED FIXED\t2024-03-01T17:57:36\tMIRI LRS  \tGNIRS18\n",
      "3224:34:1\tPRIME TARGETED FIXED\t2024-03-01T18:44:17\tMIRI LRS  \tGNIRS19\n",
      "3224:37:1\tPRIME TARGETED FIXED\t2024-03-01T19:25:45\tMIRI LRS  \tGNIRS26\n",
      "3224:42:1\tPRIME TARGETED FIXED\t2024-03-01T20:07:21\tMIRI LRS  \tGNIRS48\n",
      "3224:44:1\tPRIME TARGETED FIXED\t2024-03-01T20:51:52\tMIRI LRS  \tGNIRS54\n",
      "3224:46:1\tPRIME TARGETED FIXED\t2024-03-01T21:36:30\tMIRI LRS  \tGNIRS57\n",
      "3224:47:1\tPRIME TARGETED FIXED\t2024-03-01T23:09:38\tMIRI LRS  \tGNIRS58\n",
      "3224:48:1\tPRIME TARGETED FIXED\t2024-03-02T00:41:55\tMIRI LRS  \tGNIRS61\n",
      "3224:49:1\tPRIME TARGETED FIXED\t2024-03-02T01:23:36\tMIRI LRS  \tGNIRS62\n",
      "3224:50:1\tPRIME TARGETED FIXED\t2024-03-02T02:03:16\tMIRI LRS  \tGNIRS63\n",
      "4290:1:1\tPRIME TARGETED FIXED\t2024-03-02T04:04:15\tNIRCam Imaging\t2MASS-J04302705+3545505\n",
      "4290:2:1\tPRIME TARGETED FIXED\t2024-03-02T04:52:34\tMIRI Imaging\t2MASS-J04302705+3545505\n",
      "4290:15:1\tPRIME TARGETED FIXED\t2024-03-02T05:30:40\tNIRCam Imaging\tV-HV-TAU\n",
      "4290:16:1\tPRIME TARGETED FIXED\t2024-03-02T06:19:00\tMIRI Imaging\tV-HV-TAU\n",
      "4501:167:1\tPRIME WFSC ROUTINE\t2024-03-02T06:51:42\tWFSC      \t2MASS-04303601+2929257\n",
      "4195:2:1\tPRIME TARGETED FIXED\t2024-03-02T08:11:24\tNRS BOTS  \tTOI-1685\n",
      "3983:6:1\tPRIME TARGETED FIXED\t2024-03-02T13:28:02\tMIRI MRS  \tCVSO-298\n",
      "3690:43:1\tPRIME TARGETED FIXED\t2024-03-02T14:27:42\tMIRI LRS  \tGaiaDR33238868171156736768\n",
      "3690:27:1\tPRIME TARGETED FIXED\t2024-03-02T15:08:26\tMIRI LRS  \tGaiaDR33238868098140387840\n",
      "3690:48:1\tPRIME TARGETED FIXED\t2024-03-02T15:52:45\tMIRI LRS  \tGaiaDR33242153305741855744\n",
      "4014:1:1\tPRIME TARGETED FIXED\t2024-03-02T16:53:43\tNIRCam Coron\tHD-36575\n",
      "4014:2:1\tPRIME TARGETED FIXED\t2024-03-02T17:50:02\tNIRCam Coron\tMWC758\n",
      "4014:3:1\tPRIME TARGETED FIXED\t2024-03-02T18:51:08\tNIRCam Coron\tMWC758\n",
      "3228:12:1\tPRIME TARGETED FIXED\t2024-03-02T19:50:31\tMIRI MRS  \tV836-TAU\n",
      "3171:14:1\tPRIME TARGETED FIXED\t2024-03-02T22:58:22\tNRS BOTS  \tTOI-3714\n",
      "3690:141:1\tPRIME TARGETED FIXED\t2024-03-03T04:58:24\tMIRI LRS  \tGaiaDR3269694160592289664\n",
      "3228:20:1\tPRIME TARGETED FIXED\t2024-03-03T06:03:17\tMIRI MRS  \tDS-TAU\n",
      "4204:116:1\tPRIME TARGETED FIXED\t2024-03-03T07:42:34\tNIRCam Imaging\tVODKAJ0536+5038\n",
      "3930:298:1\tPRIME TARGETED FIXED\t2024-03-03T09:01:16\tMIRI LRS  \tSDSS_J090900.73+652527.2\n",
      "2974:3:1\tPRIME TARGETED FIXED\t2024-03-03T10:13:50\tNRS IFU   \tB1608+656.LENSGALAXY\n",
      "\n",
      "\n"
     ]
    }
   ],
   "source": [
    "! jwstops -s"
   ]
  },
  {
   "cell_type": "markdown",
   "id": "939bca9c",
   "metadata": {},
   "source": [
    "## List the most recently completed* visits \n",
    "*( * Most recent for which log information has been transmitted to the ground and been made available in the DMS Eng DB)*"
   ]
  },
  {
   "cell_type": "code",
   "execution_count": 5,
   "id": "5b7fc8cf",
   "metadata": {},
   "outputs": [
    {
     "name": "stdout",
     "output_type": "stream",
     "text": [
      "replaced value for 6\r\n",
      "\r\n",
      "Visits within the previous 48.0 h:\r\n",
      "\r\n",
      "Visit ID\tStart time (UT)     \tEnd time (UT)\t   Duration [s]\tNotes\r\n",
      "V02965013001\t2024-02-28 19:18:08\t2024-02-29 03:06:23\t28095\t\r\n",
      "V04556001001\t2024-02-29 03:06:27\t2024-02-29 06:37:35\t12667\t\r\n",
      "V04195001001\t2024-02-29 06:54:28\t2024-02-29 12:44:12\t20984\t\r\n",
      "V04290017001\t2024-02-29 12:44:16\t2024-02-29 13:50:56\t 4000\t\r\n",
      "V04290018001\t2024-02-29 13:51:00\t2024-02-29 14:53:47\t 3766\t\r\n",
      "V03690156001\t2024-02-29 14:53:51\t2024-02-29 15:43:14\t 2963\t\r\n",
      "V02745037001\t2024-02-29 16:24:01\t2024-02-29 19:35:47\t11506\t\r\n",
      "V03171013001\t2024-02-29 19:35:51\t2024-03-01 01:32:21\t21389\t\r\n",
      "V02974004001\t2024-03-01 01:32:25\t2024-03-01 07:00:43\t   -1\tStill ongoing at end of available log\r\n",
      "\r\n",
      "Latest available log message ends at 2024-03-01T07:00:43  (9.9 hours ago)\r\n",
      "\r\n"
     ]
    }
   ],
   "source": [
    "!jwstops -l"
   ]
  },
  {
   "cell_type": "code",
   "execution_count": null,
   "id": "3d842813",
   "metadata": {},
   "outputs": [],
   "source": []
  }
 ],
 "metadata": {
  "kernelspec": {
   "display_name": "Python 3 (ipykernel)",
   "language": "python",
   "name": "python3"
  },
  "language_info": {
   "codemirror_mode": {
    "name": "ipython",
    "version": 3
   },
   "file_extension": ".py",
   "mimetype": "text/x-python",
   "name": "python",
   "nbconvert_exporter": "python",
   "pygments_lexer": "ipython3",
   "version": "3.11.3"
  }
 },
 "nbformat": 4,
 "nbformat_minor": 5
}
