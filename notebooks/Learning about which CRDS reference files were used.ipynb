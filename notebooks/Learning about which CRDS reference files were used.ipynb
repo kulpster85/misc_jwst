{
 "cells": [
  {
   "cell_type": "code",
   "execution_count": 1,
   "id": "8323e421",
   "metadata": {},
   "outputs": [],
   "source": [
    "%matplotlib inline\n",
    "import misc_jwst.crds_ref_utils"
   ]
  },
  {
   "cell_type": "markdown",
   "id": "f3b2aa87",
   "metadata": {},
   "source": [
    "# Learning about which CRDS reference files were used to reduce data\n",
    "\n",
    "The JWST data pipeline automatically retrieves necessary reference files from the [Calibration Reference Data System](https://jwst-crds.stsci.edu) and uses them to reduce data. Generally this is transparent to the user and behind-the-scenes. \n",
    "\n",
    "But sometimes you want to look at and understand which reference files are used for a given reduction, and perhaps where they came from, or when. The pipeline records in FITS header keywords the CRDS reference files used in each data reduction. \n",
    "\n",
    "So it is straightforward (but a bit tedious) to look up those reference files in the CRDS web site and see their descriptive metadata.  The code in `misc_jwst.crds_ref_utils` automates that lookup.   \n",
    "\n",
    "\n",
    "### Displaying metadata about one given CRDS reference file"
   ]
  },
  {
   "cell_type": "code",
   "execution_count": 2,
   "id": "3518dd0f",
   "metadata": {},
   "outputs": [
    {
     "name": "stdout",
     "output_type": "stream",
     "text": [
      "   Pedigree  :\tINFLIGHT 2022-08-19 2022-09-22 \n",
      "   Status    :\toperational \n",
      "   Delivery Date:\t2022-10-03 13:13:42 \n",
      "   Activation Date:\t2022-10-06 09:26:10 \n",
      "   Descrip   :\tImproved flux calibration values from cycle 1 data. \n"
     ]
    }
   ],
   "source": [
    "misc_jwst.crds_ref_utils.describe_crds_file('jwst_nircam_photom_0112.fits')"
   ]
  },
  {
   "cell_type": "markdown",
   "id": "cf5bf3ad",
   "metadata": {},
   "source": [
    "If you want more details, set `verbose=True`."
   ]
  },
  {
   "cell_type": "code",
   "execution_count": 3,
   "id": "a94c7f1b",
   "metadata": {},
   "outputs": [
    {
     "name": "stdout",
     "output_type": "stream",
     "text": [
      "   Pedigree  :\tINFLIGHT 2022-08-19 2022-09-22 \n",
      "   Status    :\toperational \n",
      "   Delivery Date:\t2022-10-03 13:13:42 \n",
      "   Activation Date:\t2022-10-06 09:26:10 \n",
      "   Useafter Date:\t2022-01-01 00:00:01 \n",
      "   Descrip   :\tImproved flux calibration values from cycle 1 data. \n",
      "   Change Level:\tSEVERE \n",
      "   Submit Description:\tThese NIRCam photom reference files contain updated flux calibration values for imaging mode filter-pupil combinations, excluding the weak lenses. The calibrations in these files have good absolute flux calibration values, in addition to the good detector-to-detector calibrations that were present in the previous version of the reference files. With the much improved absolute flux calibration, testing has shown that these values produce the expected color magnitude diagrams when working on commissioning and cycle 1 data. \n"
     ]
    }
   ],
   "source": [
    "misc_jwst.crds_ref_utils.describe_crds_file('jwst_nircam_photom_0112.fits', verbose=True)"
   ]
  },
  {
   "cell_type": "markdown",
   "id": "59eca22f",
   "metadata": {},
   "source": [
    "### Displaying metadata about all CRDS reference files used in a given data reduction\n",
    "\n",
    "Given an input filename, this prints out metadata about all the CRDS reference files used in creating that data file. "
   ]
  },
  {
   "cell_type": "code",
   "execution_count": 4,
   "id": "2c9ab2e0",
   "metadata": {},
   "outputs": [
    {
     "name": "stdout",
     "output_type": "stream",
     "text": [
      "== CRDS Reference Files used in preparing jw02724233001_03104_00002_nrca3_cal.fits ==\n",
      "   Reduced with CAL_VER  = 1.8.2\t\t\tData pipeline version\n",
      "   Reduced with CRDS_VER = 11.16.14\t\t\tCRDS version\n",
      "   Reduced with CRDS_CTX = jwst_1046.pmap\t\tCRDS context file\n",
      "   Reduced on   DATE     = 2023-02-28T14:32:27.459\tUTC date file created\n",
      "\n",
      "R_AREA    Pixel area reference file information   \t jwst_nircam_area_0007.fits\n",
      "   Pedigree  :\tGROUND \n",
      "   Status    :\toperational \n",
      "   Delivery Date:\t2017-09-11 12:20:21 \n",
      "   Activation Date:\t2017-09-26 13:11:07 \n",
      "   Descrip   :\tInitial PAM for flight detector, derived from CV3 data \n",
      "R_DARK    Dark reference file information         \t jwst_nircam_dark_0343.fits\n",
      "   Pedigree  :\tGROUND \n",
      "   Status    :\toperational \n",
      "   Delivery Date:\t2021-10-14 12:14:19 \n",
      "   Activation Date:\t2021-10-15 11:19:29 \n",
      "   Descrip   :\tCV3 based dark with zero for nominal pixels and non zero for hot pixels and noutputs added. \n",
      "R_DISTOR  Distortion reference file information   \t jwst_nircam_distortion_0132.asdf\n",
      "   Pedigree  :\tINFLIGHT 2022-02-23 2022-03-14 \n",
      "   Status    :\toperational \n",
      "   Delivery Date:\t2022-03-15 13:32:43 \n",
      "   Activation Date:\t2022-03-16 10:20:54 \n",
      "   Descrip   :\tDistortion files using SIAF updates from OTE-10 observations \n",
      "R_FILOFF  Filter Offset reference file information\t jwst_nircam_filteroffset_0005.asdf\n",
      "   Pedigree  :\tINFLIGHT 2022-04-28 2022-04-28 \n",
      "   Status    :\toperational \n",
      "   Delivery Date:\t2022-06-30 10:34:06 \n",
      "   Activation Date:\t2022-07-01 08:31:18 \n",
      "   Descrip   :\tFilter offset results from analysis of NRC-23 \n",
      "R_FLAT    Flat reference file information         \t jwst_nircam_flat_0298.fits\n",
      "   Pedigree  :\tGROUND \n",
      "   Status    :\toperational \n",
      "   Delivery Date:\t2017-12-18 12:42:33 \n",
      "   Activation Date:\t2018-01-02 10:09:07 \n",
      "   Descrip   :\tPixel flat calibration file \n",
      "R_GAIN    Gain reference file information         \t jwst_nircam_gain_0091.fits\n",
      "   Pedigree  :\tGROUND \n",
      "   Status    :\toperational \n",
      "   Delivery Date:\t2022-09-01 11:37:09 \n",
      "   Activation Date:\t2022-09-02 09:11:39 \n",
      "   Descrip   :\tGain values bootstrapped from CV3 data, with refpix set to zero \n",
      "R_LINEAR  Linearity reference file information    \t jwst_nircam_linearity_0053.fits\n",
      "   Pedigree  :\tGROUND \n",
      "   Status    :\toperational \n",
      "   Delivery Date:\t2017-01-20 12:52:38 \n",
      "   Activation Date:\t2017-01-27 13:56:43 \n",
      "   Descrip   :\tLinearity correction coefficients \n",
      "R_MASK    Mask reference file information         \t jwst_nircam_mask_0067.fits\n",
      "   Pedigree  :\tINFLIGHT 2022-04-14 2022-05-05 \n",
      "   Status    :\toperational \n",
      "   Delivery Date:\t2022-06-17 17:01:15 \n",
      "   Activation Date:\t2022-06-21 09:15:22 \n",
      "   Descrip   :\tFlight DQ mask file. GRND + updates from commissioning long darks \n",
      "R_PERSAT  Persistence saturation reference file information\t jwst_nircam_persat_0026.fits\n",
      "   Pedigree  :\tGROUND \n",
      "   Status    :\toperational \n",
      "   Delivery Date:\t2021-08-04 12:36:56 \n",
      "   Activation Date:\t2021-08-05 11:07:15 \n",
      "   Descrip   :\tPersistence saturation reference file from CV3 data \n",
      "R_PHOTOM  Photometric reference file information  \t jwst_nircam_photom_0112.fits\n",
      "   Pedigree  :\tINFLIGHT 2022-08-19 2022-09-22 \n",
      "   Status    :\toperational \n",
      "   Delivery Date:\t2022-10-03 13:13:42 \n",
      "   Activation Date:\t2022-10-06 09:26:10 \n",
      "   Descrip   :\tImproved flux calibration values from cycle 1 data. \n",
      "R_READNO  Read noise reference file information   \t jwst_nircam_readnoise_0204.fits\n",
      "   Pedigree  :\tINFLIGHT 2022-04-14 2022-11-17 \n",
      "   Status    :\toperational \n",
      "   Delivery Date:\t2023-01-09 14:08:14 \n",
      "   Activation Date:\t2023-01-12 09:22:31 \n",
      "   Descrip   :\tReadnoise files derived from cycle 1 data, plus commissioning data where appropriate \n",
      "R_SATURA  Saturation reference file information   \t jwst_nircam_saturation_0096.fits\n",
      "   Pedigree  :\tGROUND \n",
      "   Status    :\toperational \n",
      "   Delivery Date:\t2023-02-13 10:27:34 \n",
      "   Activation Date:\t2023-02-14 11:13:47 \n",
      "   Descrip   :\tSaturation values for dead and RC pixels set to 65535 \n",
      "R_SUPERB  Superbias reference file information    \t jwst_nircam_superbias_0134.fits\n",
      "   Pedigree  :\tINFLIGHT 2022-04-14 2022-11-17 \n",
      "   Status    :\toperational \n",
      "   Delivery Date:\t2023-01-10 15:18:17 \n",
      "   Activation Date:\t2023-01-12 09:22:31 \n",
      "   Descrip   :\tSuperbias files derived from cycle 1 data, plus commissioning data where appropriate \n",
      "R_TRPDEN  Trap density reference file information \t jwst_nircam_trapdensity_0008.fits\n",
      "   Pedigree  :\tDUMMY \n",
      "   Status    :\toperational \n",
      "   Delivery Date:\t2017-06-30 09:33:27 \n",
      "   Activation Date:\t2017-07-14 08:30:27 \n",
      "   Descrip   :\tNumber of traps per pixel \n",
      "R_TRPPAR  Trap parameters reference file information\t jwst_nircam_trappars_0008.fits\n",
      "   Pedigree  :\tDUMMY \n",
      "   Status    :\toperational \n",
      "   Delivery Date:\t2017-06-30 09:32:53 \n",
      "   Activation Date:\t2017-07-14 08:30:27 \n",
      "   Descrip   :\tParameters for trap capture and decay \n"
     ]
    }
   ],
   "source": [
    "misc_jwst.crds_ref_utils.describe_crds_ref_files_used('jw02724233001_03104_00002_nrca3_cal.fits')"
   ]
  },
  {
   "cell_type": "code",
   "execution_count": null,
   "id": "11ae7c01",
   "metadata": {},
   "outputs": [],
   "source": []
  }
 ],
 "metadata": {
  "kernelspec": {
   "display_name": "Python 3 (ipykernel)",
   "language": "python",
   "name": "python3"
  },
  "language_info": {
   "codemirror_mode": {
    "name": "ipython",
    "version": 3
   },
   "file_extension": ".py",
   "mimetype": "text/x-python",
   "name": "python",
   "nbconvert_exporter": "python",
   "pygments_lexer": "ipython3",
   "version": "3.9.12"
  }
 },
 "nbformat": 4,
 "nbformat_minor": 5
}
